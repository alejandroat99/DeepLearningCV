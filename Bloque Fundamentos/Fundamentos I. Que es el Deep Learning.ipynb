{
 "cells": [
  {
   "cell_type": "markdown",
   "metadata": {},
   "source": [
    "# Fundamentos\n",
    "<div style=\"text-align: justify; margin-top:1em; margin-right:3em\">En este bloque se encontrarán los fundamentos y conceptos básicos necesarios para el desarrollo de redes neuronales en el área de Deep Learning. Todos los contenidos teóricos proporcionados en este bloque provienen del libro \"<i>Deep Learning with Python</i>\" del autor François Chollet</div>\n",
    "\n",
    "## Fundamentos I. ¿Qué es el Deep Learning?\n",
    "<div style=\"text-align: justify; margin-top:1em; margin-right:3em\">Este primer cuaderno será más teórico que el resto y se centrará en explicar qué es el Deep Learning (<b>DL</b>) y los aspectos que la diferencian del resto de tipos de técnicas de Inteligencia Artificial (<b>IA</b>). Además, también se explicará el funcionamiento de las redes neuronales y la forma en la que son empleadas.</div>\n",
    "\n",
    "### 1. IA Clásica vs Machine Learning\n",
    "<div style=\"text-align: justify; margin-top:1em; margin-bottom:5em; margin-right:3em\">Antes de explicar qué es el Deep Learning, debemos explicar el contexto en el que se encuentra y cómo se relaciona con estas otras técnicas de Inteligencia Artificial. De manera anticipada, podemos decir que el Deep Learning es una subárea del Machine Learning (<b>ML</b>), siendo este un paradigma distinto al usado en el desarrollo clásico de Inteligencia Artificial.\n",
    "El paradigma clásico por el que se logra Inteligencia Artificial siempre ha sido el desarrollo de algoritmos que dados un conjunto de reglas y de datos, se obtiene una respuesta. Por otro lado, el enfoque propuesto por el Machine Learning, en lugar de enseñarle lo que sabemos al programa (el conjunto de reglas), buscamos que el programa aprenda por sí mismo lo que tiene que hacer.</div>\n",
    "\n",
    "![IA Clasica vs Machine Learning](img/clasica_vs_machine_learning.png)\n",
    "\n",
    "<div style=\"text-align: justify; margin-top:2em; margin-right:3em\">Ilustremos esta diferencia con un ejemplo. Supongamos que estamos tratando de realizar un programa que encuentre el camino entre dos puntos en una malla, es decir, encontrar un camino desplazándose arriba, abajo, izquierda o derecha. Queremos que el programa sea capaz de encontrar un camino entre la posición inicial y la posición destino o final, y que solo se pueda mover en las cuatro direcciones básicas (arriba, abajo, izquierda y derecha). En el paradigma clásico tendríamos que codificar todas las reglas por las que se rigen los movimientos y aplicar un algoritmo de búsqueda de caminos que permitiese encontrar el camino deseado. Por otro lado, si seguimos el enfoque del Machine Learning, tendríamos que proporcionarle al programa los distintos datos de entrada como pudieran ser el punto inicial y final, y una serie de ejemplos de problemas resueltos de diferentes instancias del problema. Después, el algoritmo usaría esos datos de ejemplo para aprender la forma en la que se encuentran los caminos dentro de la malla e inferir las reglas del mundo en el que se está moviendo.</div>\n",
    "\n",
    "<div style=\"text-align: justify; margin-top:1.5em; margin-right:3em\">Como podemos ver en el ejemplo, un sistema o <i>modelo</i> de Machine Learning es entrenado en lugar de programado como en el enfoque clásico. Al modelo se le presentan tantos ejemplos como sean posibles de resoluciones del problema a resolver para que aprenda la estructura o modelo estadístico que sigue y sea capaz de encontrar las reglas o el modelo para automatizar la tarea para la que ha sido creado.</div>\n",
    "\n",
    "### 2. ¿Cómo aprende el Machine Learning?\n",
    "<div style=\"text-align: justify; margin-top:1em; margin-right:3em\">Como se ha mencionado en el punto anterior, la técnica de Machine Learning necesita aprender una representación de los datos del problema para poder solucionar el problema de la mejor manera posible. Esto lleva a plantearse la siguiente pregunta: <i>¿Cómo aprende un modelo de Machine Learning?</i>\n",
    "Para que un modelo de Machine Learning aprenda se necesitan tres elementos fundamentales:</div>\n",
    "\n",
    "1. **Conjunto de Datos de Entrada (Dataset)**: son los datos de entrada que el sistema necesita para realizar su función, estos pueden ser archivos sonido, imágenes, flujos de datos, etc.\n",
    "2. **Ejemplos de Datos de Salida**: son los resultados esperados del conjunto de datos de entrada, es decir, sirven para que el sistema vea el resultado que debería proporcionar para una entrada concreta.\n",
    "3. <div style=\"text-align: justify; margin-right:2em\"><b>Una Función de Coste (Loss Function)</b>: esta es una de las partes más importantes de un modelo de Machine Learning, esta función permite cuantificar cómo de bien el sistema ha aproximado un resultado para un conjunto de datos de entrada concretos. En otras palabras, esta función compara el resultado obtenido con el esperado y nos proporciona una valoración. Un ejemplo de función de coste sería el <b>Error Cuadrático Medio</b>. Esta función es tan importante, ya que el valor proporcionado es usado para valorar el proceso de aprendizaje.</div>\n",
    "\n",
    "Utilizando estos tres elementos, el sistema aprende ha realizar una representación de los datos de entrada. De forma muy simplificada, podríamos decir que el objetivo de los modelos de Machine Learning es encontrar la representación correcta de los datos de entrada.\n",
    "\n",
    "### 3. Deep Learning\n",
    "<div style=\"text-align: justify; margin-top: 1em; margin-right:3em\">El Deep Learning es una subárea del Machine Learning que aprende la representación de los datos de entrada pero enfocándose en hacerlo mediante un sistema de capas de representación en el que cada capa aprende un nivel de respresentación más significativo que el de la capa anterior. El \"<i>deep</i>\" de Deep Learing no guarda ninguna relación con que aprenda de forma más profunda o alcance un nivel conocimiento más alto de los datos, en realidad hace referencia al número de niveles o <i>capas</i> utilizadas para aprender la representación de los datos. Los sistemas de Deep Learning actuales están formados por cientos o miles de capas mientras que los enfoques de Machine Learing suelen involucrar una o dos capas de representación.</div>\n",
    "\n",
    "Estas representaciones de capas son conocidas como **Redes Neuronales**, que son capas de neuronas apiladas y conectadas entre sí una tras otra. \n",
    "\n",
    "<div style=\"text-align: justify; margin-top:1.5em; margin-right:3em\">Resumiendo lo que hemos visto hasta ahora, sabemos que el Machine Learning trata sobre tomar unos datos de entrada relacionados con el problema que queremos resolver y conectarlos o enlazarlos de alguna forma con unos resultados concretos. Esta forma de enlazar las entradas se consigue a través de ejemplos resueltos que se encuentran en el dataset proporcionado. Cada vez que tratamos de conectar los datos se mide cómo de bien se han conectado y en base a esto ajustamos los parámetros del modelo para mejorar esta conexión.</div>\n",
    "\n",
    "#### 3.1 ¿Cómo funciona el Deep Learning?\n",
    "En esta sección hablaremos más en profundidad de todos los aspectos del aprendizaje del Deep Learning y cómo contribuye cada uno al proceso de aprendizaje.\n",
    "\n",
    "<div style=\"text-align: justify; margin-top:1.5em; margin-right:3em\">Las capas de neuronas son los fundamentos del modelo y se encargan de transformar los datos. Los datos que recibe cada neurona de la capa se almacenan junto con el peso o importancia de cada uno, es decir, la transformación que realiza la neurona se encuentra parametrizada. Siguiendo por este camino, podríamos decir que el proceso de aprendizaje se basa en encontrar los pesos correctos para cada neurona del modelo. Aunque esto nos presenta un problema: en un modelo podemos tener millones de pesos que ajustar y debemos tener en cuenta que modificar un peso afectará también al resto. Antes de continuar debemos hacer una aclaración bastante importante, aunque las redes neuronales sean un conjunto de neuronas conectadas entre sí, es mucho más eficiente para el desarrollo pensar que las redes están compuestas por capas de neuronas que aunque tengan pesos diferentes, todas las neuronas reciben las mismas entradas y realizan las mismas operaciones.</div>\n",
    "\n",
    "![Capas y Pesos](img/capas_y_pesos.png)\n",
    "<div style=\"text-align: justify; margin-top:1.5em; margin-right:3em\">Para controlar y facilitar este proceso de aprendizaje, se introduce la <b>Función de Coste</b> que nos permite medir cómo de diferente es el resultado obtenido del esperado. Utilizando los resultados proporcionados por esta función es posible saber cuanto nos hemos desviado del objetivo y cómo de grandes deben de ser las modificaciones para alcanzar el ajuste correcto.</div>\n",
    "\n",
    "![Funcion de Coste](img/funcion_de_coste.png)\n",
    "\n",
    "<div style=\"text-align: justify; margin-top:1.5em; margin-right:3em\">Por último, para realizar el ajuste de los parámetros del modelo debemos utilizar un <i>optimizador</i> que implemente el <b>Algoritmo de Backpropagation</b>. Este algoritmo es el más importante de todo el proceso de aprendizaje porque es el que realiza la acción de \"aprender\". En el siguiente cuaderno se explicará con mayor detalle los aspectos de este algoritmo.</div>\n",
    "\n",
    "![Optimizador](img/optimizador.png)\n",
    "\n",
    "Por lo tanto, el proceso general de aprendizaje en un sistema de Deep Learing sería:\n",
    "1. Cargar el modelo de la red con sus pesos iniciales.\n",
    "2. Abastecer el modelo con datos de prueba junto con sus resultado.\n",
    "3. Comparar los resultados obtenidos con los esperados usando la **Función de Coste**\n",
    "4. Enviar los resultados de la función de coste al optimizador\n",
    "5. El optimizador actualiza los pesos o _parámetros_ del modelo\n",
    "\n",
    "<div style=\"text-align: justify; margin-top:1.5em; margin-right:3em\">Este proceso de aprendizaje se repite el tantas veces hasta que se alcancen unos criterios de aceptación del modelo, hasta que se acaben los datos de entrenamiento o hata llegar a un límite de iteraciones. También se debe mencionar que existen diversas técnicas para facilitar este proceso y permitir al modelo aprender de una forma adecuada.</div>"
   ]
  }
 ],
 "metadata": {
  "kernelspec": {
   "display_name": "Python 3",
   "language": "python",
   "name": "python3"
  },
  "language_info": {
   "codemirror_mode": {
    "name": "ipython",
    "version": 3
   },
   "file_extension": ".py",
   "mimetype": "text/x-python",
   "name": "python",
   "nbconvert_exporter": "python",
   "pygments_lexer": "ipython3",
   "version": "3.6.9"
  }
 },
 "nbformat": 4,
 "nbformat_minor": 4
}
