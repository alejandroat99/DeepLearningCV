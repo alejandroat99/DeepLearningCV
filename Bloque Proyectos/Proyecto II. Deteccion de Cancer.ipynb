{
 "cells": [
  {
   "cell_type": "markdown",
   "id": "8668eeba",
   "metadata": {},
   "source": [
    "# Proyecto II: Detección de Cáncer\n",
    "\n",
    "<div style=\"text-align: justify; margin-top:1.5em; margin-right:3em\">El contexto de este proyecto es desarrollar una aplicación que sea capaz de clasificar resonancias electromagnéticas cerebrales para detectar cáncer. Como se ha mencionado el objetivo es crear un modelo que clasifique las imágenes de estas resonancias y que establezca si el paciente está sano o sufre cáncer cerebral.</div>\n",
    "\n",
    "<div style=\"text-align: justify; margin-top:1.5em; margin-right:3em\">Para lograr este objetivo vamos a utilizar una versión modificada del <a href=\"https://www.kaggle.com/preetviradiya/brian-tumor-dataset\">dataset</a>, este dataset cuenta con una gran cantidad de imágenes divididas entre imágenes de resonancias con cáncer y resonancias de personas sanas. Como en el proyecto anterior, se proporciona un modelo ya entrenaddo sobre este problema si el proceso de entrenamiento resulta demasiado lento.</div>"
   ]
  },
  {
   "cell_type": "markdown",
   "id": "2627c17c",
   "metadata": {},
   "source": [
    "- ## Paso 1: Construir el generador de datos\n",
    "\n",
    "Debido a que la cantidad de imágenes es bastante altas como para tenerlas todas a la vez en memoria, se utilizará una herramienta que ofreze **Keras** para establecer un directorio desde el que extraer las imágenes de ambas clases."
   ]
  },
  {
   "cell_type": "code",
   "execution_count": 3,
   "id": "585784b8",
   "metadata": {},
   "outputs": [
    {
     "name": "stdout",
     "output_type": "stream",
     "text": [
      "Found 4432 images belonging to 2 classes.\n"
     ]
    }
   ],
   "source": [
    "from tensorflow.keras.preprocessing.image import ImageDataGenerator\n",
    "train_path = './images/tumor_dataset'\n",
    "\n",
    "train_generator = ImageDataGenerator(rescale=1./255).flow_from_directory(\n",
    "    train_path,\n",
    "    target_size=(128,128),\n",
    "    batch_size=40,\n",
    "    class_mode='binary'\n",
    ")"
   ]
  },
  {
   "cell_type": "markdown",
   "id": "1856f3af",
   "metadata": {},
   "source": [
    "- ## Paso 2: Constuir el modelo\n",
    "\n",
    "En este paso se va a generar un modelo sin entrenar usando el framework de **Keras** y con una estructura de baja complejidad para tratar de resolver el problema de un forma sencilla "
   ]
  },
  {
   "cell_type": "code",
   "execution_count": 4,
   "id": "e56a43ea",
   "metadata": {},
   "outputs": [
    {
     "name": "stdout",
     "output_type": "stream",
     "text": [
      "Model: \"sequential\"\n",
      "_________________________________________________________________\n",
      "Layer (type)                 Output Shape              Param #   \n",
      "=================================================================\n",
      "conv2d (Conv2D)              (None, 126, 126, 32)      896       \n",
      "_________________________________________________________________\n",
      "max_pooling2d (MaxPooling2D) (None, 63, 63, 32)        0         \n",
      "_________________________________________________________________\n",
      "conv2d_1 (Conv2D)            (None, 61, 61, 32)        9248      \n",
      "_________________________________________________________________\n",
      "max_pooling2d_1 (MaxPooling2 (None, 30, 30, 32)        0         \n",
      "_________________________________________________________________\n",
      "conv2d_2 (Conv2D)            (None, 28, 28, 64)        18496     \n",
      "_________________________________________________________________\n",
      "max_pooling2d_2 (MaxPooling2 (None, 14, 14, 64)        0         \n",
      "_________________________________________________________________\n",
      "dropout (Dropout)            (None, 14, 14, 64)        0         \n",
      "_________________________________________________________________\n",
      "conv2d_3 (Conv2D)            (None, 12, 12, 64)        36928     \n",
      "_________________________________________________________________\n",
      "max_pooling2d_3 (MaxPooling2 (None, 6, 6, 64)          0         \n",
      "_________________________________________________________________\n",
      "flatten (Flatten)            (None, 2304)              0         \n",
      "_________________________________________________________________\n",
      "dropout_1 (Dropout)          (None, 2304)              0         \n",
      "_________________________________________________________________\n",
      "dense (Dense)                (None, 64)                147520    \n",
      "_________________________________________________________________\n",
      "dense_1 (Dense)              (None, 1)                 65        \n",
      "=================================================================\n",
      "Total params: 213,153\n",
      "Trainable params: 213,153\n",
      "Non-trainable params: 0\n",
      "_________________________________________________________________\n"
     ]
    }
   ],
   "source": [
    "from tensorflow.keras.models import Sequential\n",
    "from tensorflow.keras.layers import Dense, Conv2D, MaxPooling2D, Flatten, Dropout\n",
    "from tensorflow.keras.optimizers import Adam\n",
    "from tensorflow.keras.callbacks import TensorBoard\n",
    "import os\n",
    "\n",
    "model = Sequential()\n",
    "\n",
    "# Stack the layers\n",
    "model.add(Conv2D(32, kernel_size=(3,3), activation='relu', input_shape=(128, 128, 3))) # Input layer\n",
    "model.add(MaxPooling2D(2,2)) # Downsize the results\n",
    "model.add(Conv2D(32, kernel_size=(3,3), activation='relu'))\n",
    "model.add(MaxPooling2D(2,2))\n",
    "model.add(Conv2D(64, kernel_size=(3,3), activation='relu'))\n",
    "model.add(MaxPooling2D(2,2))\n",
    "model.add(Dropout(0.5)) # Ignore some outputs to avoid overfitting\n",
    "model.add(Conv2D(64, kernel_size=(3,3), activation='relu'))\n",
    "model.add(MaxPooling2D(2,2))\n",
    "model.add(Flatten()) # Convert to 1D\n",
    "model.add(Dropout(0.5))\n",
    "model.add(Dense(64, activation='relu'))\n",
    "model.add(Dense(1, activation='sigmoid')) # Output layer\n",
    "\n",
    "# Setup the optimizer\n",
    "opt = Adam(learning_rate=0.001)\n",
    "\n",
    "# Compile the model\n",
    "model.compile(loss='binary_crossentropy', optimizer=opt, metrics=['accuracy'])\n",
    "\n",
    "model.summary()"
   ]
  },
  {
   "cell_type": "markdown",
   "id": "349e83e9",
   "metadata": {},
   "source": [
    "- ## Paso 3: Entrenar el modelo\n",
    "\n",
    "En este paso se va a entrenar el modelo construido en el paso anterior."
   ]
  },
  {
   "cell_type": "code",
   "execution_count": 6,
   "id": "6855254d",
   "metadata": {},
   "outputs": [
    {
     "name": "stdout",
     "output_type": "stream",
     "text": [
      "Epoch 1/50\n",
      "111/111 [==============================] - 72s 650ms/step - loss: 0.2355 - accuracy: 0.9052\n",
      "Epoch 2/50\n",
      "111/111 [==============================] - 51s 459ms/step - loss: 0.2026 - accuracy: 0.9136\n",
      "Epoch 3/50\n",
      "111/111 [==============================] - 52s 466ms/step - loss: 0.1946 - accuracy: 0.9235\n",
      "Epoch 4/50\n",
      "111/111 [==============================] - 53s 472ms/step - loss: 0.1714 - accuracy: 0.9346\n",
      "Epoch 5/50\n",
      "111/111 [==============================] - 51s 454ms/step - loss: 0.1558 - accuracy: 0.9427\n",
      "Epoch 6/50\n",
      "111/111 [==============================] - 53s 471ms/step - loss: 0.1407 - accuracy: 0.9463\n",
      "Epoch 7/50\n",
      "111/111 [==============================] - 52s 469ms/step - loss: 0.1354 - accuracy: 0.9483\n",
      "Epoch 8/50\n",
      "111/111 [==============================] - 50s 450ms/step - loss: 0.1068 - accuracy: 0.9592\n",
      "Epoch 9/50\n",
      "111/111 [==============================] - 51s 461ms/step - loss: 0.1066 - accuracy: 0.9596\n",
      "Epoch 10/50\n",
      "111/111 [==============================] - 51s 459ms/step - loss: 0.0938 - accuracy: 0.9646\n",
      "Epoch 11/50\n",
      "111/111 [==============================] - 49s 438ms/step - loss: 0.0852 - accuracy: 0.9691\n",
      "Epoch 12/50\n",
      "111/111 [==============================] - 50s 444ms/step - loss: 0.0785 - accuracy: 0.9716\n",
      "Epoch 13/50\n",
      "111/111 [==============================] - 51s 458ms/step - loss: 0.0728 - accuracy: 0.9713\n",
      "Epoch 14/50\n",
      "111/111 [==============================] - 50s 445ms/step - loss: 0.0621 - accuracy: 0.9763\n",
      "Epoch 15/50\n",
      "111/111 [==============================] - 49s 436ms/step - loss: 0.0589 - accuracy: 0.9783\n",
      "Epoch 16/50\n",
      "111/111 [==============================] - 50s 448ms/step - loss: 0.0826 - accuracy: 0.9691\n",
      "Epoch 17/50\n",
      "111/111 [==============================] - 50s 445ms/step - loss: 0.0620 - accuracy: 0.9770\n",
      "Epoch 18/50\n",
      "111/111 [==============================] - 49s 437ms/step - loss: 0.0580 - accuracy: 0.9810\n",
      "Epoch 19/50\n",
      "111/111 [==============================] - 51s 454ms/step - loss: 0.0534 - accuracy: 0.9799\n",
      "Epoch 20/50\n",
      "111/111 [==============================] - 49s 443ms/step - loss: 0.0519 - accuracy: 0.9815\n",
      "Epoch 21/50\n",
      "111/111 [==============================] - 49s 443ms/step - loss: 0.0444 - accuracy: 0.9835\n",
      "Epoch 22/50\n",
      "111/111 [==============================] - 48s 434ms/step - loss: 0.0514 - accuracy: 0.9819\n",
      "Epoch 23/50\n",
      "111/111 [==============================] - 50s 444ms/step - loss: 0.0410 - accuracy: 0.9867\n",
      "Epoch 24/50\n",
      "111/111 [==============================] - 50s 447ms/step - loss: 0.0503 - accuracy: 0.9810\n",
      "Epoch 25/50\n",
      "111/111 [==============================] - 50s 445ms/step - loss: 0.0405 - accuracy: 0.9860\n",
      "Epoch 26/50\n",
      "111/111 [==============================] - 49s 443ms/step - loss: 0.0410 - accuracy: 0.9880\n",
      "Epoch 27/50\n",
      "111/111 [==============================] - 48s 431ms/step - loss: 0.0411 - accuracy: 0.9862\n",
      "Epoch 28/50\n",
      "111/111 [==============================] - 50s 449ms/step - loss: 0.0291 - accuracy: 0.9914\n",
      "Epoch 29/50\n",
      "111/111 [==============================] - 51s 459ms/step - loss: 0.0373 - accuracy: 0.9867\n",
      "Epoch 30/50\n",
      "111/111 [==============================] - 50s 451ms/step - loss: 0.0364 - accuracy: 0.9853\n",
      "Epoch 31/50\n",
      "111/111 [==============================] - 50s 452ms/step - loss: 0.0269 - accuracy: 0.9912\n",
      "Epoch 32/50\n",
      "111/111 [==============================] - 48s 433ms/step - loss: 0.0332 - accuracy: 0.9878\n",
      "Epoch 33/50\n",
      "111/111 [==============================] - 50s 448ms/step - loss: 0.0270 - accuracy: 0.9898\n",
      "Epoch 34/50\n",
      "111/111 [==============================] - 51s 460ms/step - loss: 0.0207 - accuracy: 0.9914\n",
      "Epoch 35/50\n",
      "111/111 [==============================] - 50s 446ms/step - loss: 0.0438 - accuracy: 0.9849\n",
      "Epoch 36/50\n",
      "111/111 [==============================] - 54s 482ms/step - loss: 0.0277 - accuracy: 0.9892\n",
      "Epoch 37/50\n",
      "111/111 [==============================] - 53s 472ms/step - loss: 0.0277 - accuracy: 0.9917\n",
      "Epoch 38/50\n",
      "111/111 [==============================] - 51s 460ms/step - loss: 0.0230 - accuracy: 0.9917\n",
      "Epoch 39/50\n",
      "111/111 [==============================] - 52s 463ms/step - loss: 0.0199 - accuracy: 0.9926\n",
      "Epoch 40/50\n",
      "111/111 [==============================] - 51s 455ms/step - loss: 0.0251 - accuracy: 0.9907\n",
      "Epoch 41/50\n",
      "111/111 [==============================] - 51s 452ms/step - loss: 0.0235 - accuracy: 0.9907\n",
      "Epoch 42/50\n",
      "111/111 [==============================] - 49s 438ms/step - loss: 0.0275 - accuracy: 0.9883\n",
      "Epoch 43/50\n",
      "111/111 [==============================] - 51s 461ms/step - loss: 0.0275 - accuracy: 0.9907\n",
      "Epoch 44/50\n",
      "111/111 [==============================] - 50s 445ms/step - loss: 0.0264 - accuracy: 0.9901\n",
      "Epoch 45/50\n",
      "111/111 [==============================] - 50s 447ms/step - loss: 0.0273 - accuracy: 0.9901\n",
      "Epoch 46/50\n",
      "111/111 [==============================] - 50s 449ms/step - loss: 0.0229 - accuracy: 0.9926\n",
      "Epoch 47/50\n",
      "111/111 [==============================] - 52s 464ms/step - loss: 0.0223 - accuracy: 0.9923\n",
      "Epoch 48/50\n",
      "111/111 [==============================] - 51s 455ms/step - loss: 0.0149 - accuracy: 0.9948\n",
      "Epoch 49/50\n",
      "111/111 [==============================] - 51s 454ms/step - loss: 0.0131 - accuracy: 0.9953\n",
      "Epoch 50/50\n",
      "111/111 [==============================] - 51s 455ms/step - loss: 0.0185 - accuracy: 0.9935\n"
     ]
    }
   ],
   "source": [
    "# Train the model\n",
    "history = model.fit(train_generator, epochs=50, callbacks=[tensorboard_callback])"
   ]
  },
  {
   "cell_type": "code",
   "execution_count": 10,
   "id": "2feb3a26",
   "metadata": {},
   "outputs": [
    {
     "data": {
      "image/png": "[encoded data removed]",
      "text/plain": [
       "<Figure size 432x288 with 1 Axes>"
      ]
     },
     "metadata": {
      "needs_background": "light"
     },
     "output_type": "display_data"
    },
    {
     "data": {
      "image/png": "[encoded data removed]",
      "text/plain": [
       "<Figure size 432x288 with 1 Axes>"
      ]
     },
     "metadata": {
      "needs_background": "light"
     },
     "output_type": "display_data"
    }
   ],
   "source": [
    "import matplotlib.pyplot as plt\n",
    "# Plot the training data\n",
    "plt.plot(history.history['accuracy'])\n",
    "# plt.plot(history.history['val_accuracy'])\n",
    "plt.title('model accuracy')\n",
    "plt.ylabel('accuracy')\n",
    "plt.xlabel('epoch')\n",
    "plt.legend(['train'], loc='upper left')\n",
    "plt.show()\n",
    "\n",
    "plt.plot(history.history['loss'])\n",
    "# plt.plot(history.history['val_loss'])\n",
    "plt.title('model loss')\n",
    "plt.ylabel('loss')\n",
    "plt.xlabel('epoch')\n",
    "plt.legend(['train'], loc='upper left')\n",
    "plt.show()"
   ]
  },
  {
   "cell_type": "code",
   "execution_count": 11,
   "id": "cc65adc3",
   "metadata": {},
   "outputs": [],
   "source": [
    "model.save('tumor_model.h5')"
   ]
  },
  {
   "cell_type": "markdown",
   "id": "a73eef92",
   "metadata": {},
   "source": [
    "- ## Paso 4: Desarrollar la aplicación\n",
    "\n",
    "Para este paso vamos a desarrollar un script que se encargue de cargar el modelo entrenado y de tomar imágenes, adaptarlas y procesarlas con el modelo para determinar si la resonancia es de un cerebro sano"
   ]
  },
  {
   "cell_type": "code",
   "execution_count": 60,
   "id": "30613ce8",
   "metadata": {},
   "outputs": [],
   "source": [
    "class MRI_Classifier():\n",
    "    def __init__(self, model_file='./models/tumor_model/tumor.h5'):\n",
    "        from tensorflow.keras.models import load_model\n",
    "        \n",
    "        self.model_file = model_file\n",
    "        self.model = load_model(model_file)\n",
    "        self.input_shape = self.model.input_shape[1:3]\n",
    "        \n",
    "        self.__healthy__ = 1\n",
    "        self.__tumor__ = 0\n",
    "    \n",
    "    def proccessMRI(self, image):\n",
    "        from tensorflow.image import resize\n",
    "        import numpy as np\n",
    "        im = resize(image, self.input_shape)\n",
    "        im = np.expand_dims(im, 0)\n",
    "        \n",
    "        output = self.model(im)\n",
    "        evaluation = np.around(output.numpy()[0][0])\n",
    "        if evaluation == self.__healthy__:\n",
    "            msg = 'Healthy MRI Detected'\n",
    "        elif evaluation == self.__tumor__:\n",
    "            msg = 'Tumorous MRI Detected'\n",
    "        \n",
    "        return msg"
   ]
  },
  {
   "cell_type": "code",
   "execution_count": 61,
   "id": "45d715b3",
   "metadata": {},
   "outputs": [],
   "source": [
    "mri = MRI_Classifier()"
   ]
  },
  {
   "cell_type": "markdown",
   "id": "5b1c0fdb",
   "metadata": {},
   "source": [
    "- ## Paso 5: Probar la aplicación\n",
    "\n",
    "Finalmente, se realiza una prueba para comprobar que la aplicación funciona como es debido usando las imágenes que se encuentran en la ruta `./images/tumor_test`."
   ]
  },
  {
   "cell_type": "code",
   "execution_count": 58,
   "id": "5df6d5d0",
   "metadata": {},
   "outputs": [],
   "source": [
    "import cv2\n",
    "im_healthy = cv2.imread('./images/tumor_test/healthy-test.jpeg')\n",
    "im_tumor0 = cv2.imread('./images/tumor_test/tumor-test.jpg')\n",
    "im_tumor1 = cv2.imread('./images/tumor_test/tumor-test1.jpg')"
   ]
  },
  {
   "cell_type": "code",
   "execution_count": 62,
   "id": "41b4fbae",
   "metadata": {},
   "outputs": [
    {
     "name": "stdout",
     "output_type": "stream",
     "text": [
      "Healthy MRI Detected\n",
      "Tumorous MRI Detected\n",
      "Tumorous MRI Detected\n"
     ]
    }
   ],
   "source": [
    "print(mri.proccessMRI(im_healthy))\n",
    "print(mri.proccessMRI(im_tumor0))\n",
    "print(mri.proccessMRI(im_tumor1))"
   ]
  }
 ],
 "metadata": {
  "kernelspec": {
   "display_name": "Python 3",
   "language": "python",
   "name": "python3"
  },
  "language_info": {
   "codemirror_mode": {
    "name": "ipython",
    "version": 3
   },
   "file_extension": ".py",
   "mimetype": "text/x-python",
   "name": "python",
   "nbconvert_exporter": "python",
   "pygments_lexer": "ipython3",
   "version": "3.6.9"
  }
 },
 "nbformat": 4,
 "nbformat_minor": 5
}
