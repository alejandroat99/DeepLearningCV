{
 "cells": [
  {
   "cell_type": "markdown",
   "id": "integrated-sigma",
   "metadata": {},
   "source": [
    "# Practica II: Clasificación Multi-Clase\n",
    "\n",
    "## Introducción\n",
    "Este cuaderno tiene como objetivo mostrar el siguiente tipo de problemas básicos que se encuentran en el Deep Learning, conocido como **Clasificación Multi-clase**. Al contrario que los problemas de clasificación binaria, los modelos generados deben ser capaces de dividir el espacio de estados en múltiples regiones. Cada una de estas regiones representa una clase distinta a las demás.\n",
    "\n",
    "Para comprender mejor este tipo de problemas vamos a resolver uno de ello.\n",
    "\n",
    "## Contexto del problema\n",
    "Una entidad bancaria desea renovar sus sistemas informáticos para agilizar el proceso de gestión de los cheques. Para cumplir su objetivo necesitan que el ordenador sea capaz de reconocer los dígitos escritos a mano en los cheques. También contamos con que otro equipo se encargará de la parte del sistema que extrae los números escritos de las imágenes de los cheques, por lo que sólo debemos preocuparnos de desarrollar la parte del sistema que reconoce los dígitos de manera individual."
   ]
  },
  {
   "cell_type": "code",
   "execution_count": 1,
   "id": "vocal-security",
   "metadata": {},
   "outputs": [],
   "source": [
    "# Import the required modules\n",
    "import numpy as np\n",
    "import matplotlib.pyplot as plt\n",
    "import pandas as pd\n",
    "from tensorflow import keras\n",
    "from tensorflow.keras.models import Sequential\n",
    "from tensorflow.keras.layers import Dense, Conv2D, MaxPooling2D, Flatten"
   ]
  },
  {
   "cell_type": "markdown",
   "id": "matched-bailey",
   "metadata": {},
   "source": [
    "El conjunto de datos que vamos a utilizar para resolver el problema será uno que ya viene junto con keras en el módulo `keras.datasets.mnist`.  Para utilizar estos datos hay que ejecutar la función `load_data()` que se encuentra dentro del módulo. Esta función devolverá dos tuplas correspondientes a los datos de entrenamiento y de prueba, respectivamente. Cada una de estas tuplas tiene la forma `(datos_entrada, salida_esperada)`.\n",
    "\n",
    "Se ha elegido este _dataset_ debido a que es ligero trabajar con él y contiene 60000 imágenes de entrenamiento y 10000 imágenes de prueba. La cantidad de datos lo hace más que aceptable para entrenar el modelo solicitado. Además, las imágenes se encuentran ya preprocesadas a un tamaño de 128x128 y en blanco y negro."
   ]
  },
  {
   "cell_type": "code",
   "execution_count": 2,
   "id": "religious-missouri",
   "metadata": {},
   "outputs": [
    {
     "name": "stdout",
     "output_type": "stream",
     "text": [
      "Dataset:\n",
      "Train data: (60000, 28, 28, 1)\n",
      " Test data: (10000, 28, 28, 1)\n"
     ]
    }
   ],
   "source": [
    "n_classes = 10 # Number of classes the model has to predict\n",
    "input_shape = (28, 28, 1) # Input shape of the images\n",
    "\n",
    "# Load the dataset\n",
    "(x_train, y_train), (x_test, y_test) = keras.datasets.mnist.load_data()\n",
    "\n",
    "# Convert the input images to a better range of values\n",
    "x_train = x_train.astype('float32') / 255 \n",
    "x_test = x_test.astype('float32') / 255   \n",
    "\n",
    "# Expand the dimensions of the numpy array to match the input shape (28, 28) -> (28, 28, 1)\n",
    "x_train = np.expand_dims(x_train, -1)\n",
    "x_test = np.expand_dims(x_test, -1)\n",
    "\n",
    "# Use the function keras.utils.to_categorical(expected_output, num_classes) to adapt the expected output arrays \n",
    "y_train = keras.utils.to_categorical(y_train, n_classes)\n",
    "y_test = keras.utils.to_categorical(y_test, n_classes)\n",
    "\n",
    "print('Dataset:')\n",
    "print('Train data:', x_train.shape)\n",
    "print(' Test data:', x_test.shape)"
   ]
  },
  {
   "cell_type": "markdown",
   "id": "planned-waters",
   "metadata": {},
   "source": [
    "Una vez se han cargado los datos y preprocesado para adecuarlos al verdadero procesamiento, vamos a desarrollar un modelo capaz de reconocer los dígitos. Debido a que las imágenes de entrada tienen un tamaño bastante reducido, no necesitaremos emplear muchas capaz de reducción `MaxPooling2D` para alcanzar un tamaño asequible de enviar a una red de neuronas `Dense`. \n",
    "\n",
    "También debemos recordar que estamos tratando con un problema multi-clase y la capa de salida de la red debe tener tantas neuronas como clases queramos clasificar. Este tipo de problema también no lleva a tener que utilizar una **Función de Coste** diferente, en este caso: **Categorical Crossentropy**."
   ]
  },
  {
   "cell_type": "code",
   "execution_count": 3,
   "id": "urban-wonder",
   "metadata": {},
   "outputs": [
    {
     "name": "stdout",
     "output_type": "stream",
     "text": [
      "Model: \"mnist_classifier_model\"\n",
      "_________________________________________________________________\n",
      "Layer (type)                 Output Shape              Param #   \n",
      "=================================================================\n",
      "conv2d (Conv2D)              (None, 26, 26, 32)        320       \n",
      "_________________________________________________________________\n",
      "max_pooling2d (MaxPooling2D) (None, 13, 13, 32)        0         \n",
      "_________________________________________________________________\n",
      "conv2d_1 (Conv2D)            (None, 11, 11, 64)        18496     \n",
      "_________________________________________________________________\n",
      "max_pooling2d_1 (MaxPooling2 (None, 5, 5, 64)          0         \n",
      "_________________________________________________________________\n",
      "flatten (Flatten)            (None, 1600)              0         \n",
      "_________________________________________________________________\n",
      "dense (Dense)                (None, 32)                51232     \n",
      "_________________________________________________________________\n",
      "dense_1 (Dense)              (None, 10)                330       \n",
      "=================================================================\n",
      "Total params: 70,378\n",
      "Trainable params: 70,378\n",
      "Non-trainable params: 0\n",
      "_________________________________________________________________\n"
     ]
    }
   ],
   "source": [
    "# Create the base model\n",
    "model = Sequential(name='mnist_classifier_model')\n",
    "\n",
    "# Stack the convolutional layers with their pooling layers\n",
    "model.add(Conv2D(32, kernel_size=(3,3), activation='relu', input_shape=input_shape))\n",
    "model.add(MaxPooling2D(2,2))\n",
    "model.add(Conv2D(64, kernel_size=(3,3), activation='relu'))\n",
    "model.add(MaxPooling2D(2,2))\n",
    "\n",
    "# Flatten the output to adapt the to a dense network\n",
    "model.add(Flatten())\n",
    "\n",
    "# Stack the dense layers\n",
    "model.add(Dense(32, activation='relu'))\n",
    "\n",
    "# Stach the output layers of the model\n",
    "model.add(Dense(n_classes, activation='softmax'))\n",
    "\n",
    "# Compile the model with the apropiate loss function and optimizer\n",
    "model.compile(loss='categorical_crossentropy', optimizer='sgd', metrics=['accuracy'])\n",
    "model.summary()"
   ]
  },
  {
   "cell_type": "markdown",
   "id": "political-anger",
   "metadata": {},
   "source": [
    "Ahora que hemos terminado de desarrollar el modelo, vamos a entrenarlo con los datos que se han cargado. Como ya hemos visto, usaremos la función `fit()` para configurar el proceso de entrenamiento. Debido a que la cantidad de datos es muy grande, tendremos que utilizar un tamaño de _batch_ bastante alto. Se recomienda utilizar los siguientes parámetros de entrenamiento:\n",
    "\n",
    "- `batch_size=256`\n",
    "- `epochs=20`\n",
    "- `validation_split=0.1`\n",
    "\n",
    "Ha diferencia del problema anterior, no se usará un generador para alimentar a la red. En su lugar utilizaremos directamente los datos de entrenamiento cargados al principio de este problema."
   ]
  },
  {
   "cell_type": "code",
   "execution_count": 4,
   "id": "searching-blast",
   "metadata": {
    "scrolled": false
   },
   "outputs": [
    {
     "name": "stdout",
     "output_type": "stream",
     "text": [
      "Epoch 1/20\n",
      "211/211 [==============================] - 23s 103ms/step - loss: 2.1409 - accuracy: 0.3333 - val_loss: 0.9266 - val_accuracy: 0.7792\n",
      "Epoch 2/20\n",
      "211/211 [==============================] - 20s 93ms/step - loss: 0.7542 - accuracy: 0.7950 - val_loss: 0.3758 - val_accuracy: 0.9007\n",
      "Epoch 3/20\n",
      "211/211 [==============================] - 19s 92ms/step - loss: 0.4270 - accuracy: 0.8734 - val_loss: 0.2882 - val_accuracy: 0.9217\n",
      "Epoch 4/20\n",
      "211/211 [==============================] - 20s 93ms/step - loss: 0.3392 - accuracy: 0.8982 - val_loss: 0.2720 - val_accuracy: 0.9232\n",
      "Epoch 5/20\n",
      "211/211 [==============================] - 20s 93ms/step - loss: 0.3085 - accuracy: 0.9092 - val_loss: 0.2143 - val_accuracy: 0.9435\n",
      "Epoch 6/20\n",
      "211/211 [==============================] - 20s 93ms/step - loss: 0.2652 - accuracy: 0.9216 - val_loss: 0.2118 - val_accuracy: 0.9405\n",
      "Epoch 7/20\n",
      "211/211 [==============================] - 20s 94ms/step - loss: 0.2445 - accuracy: 0.9266 - val_loss: 0.1793 - val_accuracy: 0.9502\n",
      "Epoch 8/20\n",
      "211/211 [==============================] - 19s 91ms/step - loss: 0.2217 - accuracy: 0.9343 - val_loss: 0.1711 - val_accuracy: 0.9505\n",
      "Epoch 9/20\n",
      "211/211 [==============================] - 19s 91ms/step - loss: 0.2080 - accuracy: 0.9397 - val_loss: 0.1522 - val_accuracy: 0.9582\n",
      "Epoch 10/20\n",
      "211/211 [==============================] - 19s 91ms/step - loss: 0.1892 - accuracy: 0.9444 - val_loss: 0.1423 - val_accuracy: 0.9603\n",
      "Epoch 11/20\n",
      "211/211 [==============================] - 19s 91ms/step - loss: 0.1681 - accuracy: 0.9508 - val_loss: 0.1346 - val_accuracy: 0.9635\n",
      "Epoch 12/20\n",
      "211/211 [==============================] - 20s 94ms/step - loss: 0.1585 - accuracy: 0.9538 - val_loss: 0.1193 - val_accuracy: 0.9683\n",
      "Epoch 13/20\n",
      "211/211 [==============================] - 21s 100ms/step - loss: 0.1417 - accuracy: 0.9585 - val_loss: 0.1158 - val_accuracy: 0.9697\n",
      "Epoch 14/20\n",
      "211/211 [==============================] - 20s 94ms/step - loss: 0.1378 - accuracy: 0.9597 - val_loss: 0.1149 - val_accuracy: 0.9685\n",
      "Epoch 15/20\n",
      "211/211 [==============================] - 20s 93ms/step - loss: 0.1286 - accuracy: 0.9628 - val_loss: 0.1013 - val_accuracy: 0.9723\n",
      "Epoch 16/20\n",
      "211/211 [==============================] - 20s 94ms/step - loss: 0.1216 - accuracy: 0.9646 - val_loss: 0.0993 - val_accuracy: 0.9743\n",
      "Epoch 17/20\n",
      "211/211 [==============================] - 20s 94ms/step - loss: 0.1090 - accuracy: 0.9678 - val_loss: 0.0969 - val_accuracy: 0.9737\n",
      "Epoch 18/20\n",
      "211/211 [==============================] - 19s 92ms/step - loss: 0.1105 - accuracy: 0.9678 - val_loss: 0.0915 - val_accuracy: 0.9752\n",
      "Epoch 19/20\n",
      "211/211 [==============================] - 19s 92ms/step - loss: 0.1067 - accuracy: 0.9690 - val_loss: 0.0871 - val_accuracy: 0.9765\n",
      "Epoch 20/20\n",
      "211/211 [==============================] - 19s 92ms/step - loss: 0.1014 - accuracy: 0.9701 - val_loss: 0.0864 - val_accuracy: 0.9767\n"
     ]
    }
   ],
   "source": [
    "history = model.fit(x_train, y_train, batch_size=256, epochs=20, validation_split=0.1)"
   ]
  },
  {
   "cell_type": "markdown",
   "id": "corresponding-yahoo",
   "metadata": {},
   "source": [
    "A continuación se proporciona el código para ver las gráficas del entrenamiento realizado:"
   ]
  },
  {
   "cell_type": "code",
   "execution_count": 5,
   "id": "instant-complement",
   "metadata": {},
   "outputs": [
    {
     "data": {
      "image/png": "[encoded data removed]",
      "text/plain": [
       "<Figure size 432x288 with 1 Axes>"
      ]
     },
     "metadata": {
      "needs_background": "light"
     },
     "output_type": "display_data"
    },
    {
     "data": {
      "image/png": "[encoded data removed]",
      "text/plain": [
       "<Figure size 432x288 with 1 Axes>"
      ]
     },
     "metadata": {
      "needs_background": "light"
     },
     "output_type": "display_data"
    }
   ],
   "source": [
    "# Graficas del proceso de entrenamiento\n",
    "plt.plot(history.history['accuracy'])\n",
    "plt.plot(history.history['val_accuracy'])\n",
    "plt.title('model accuracy')\n",
    "plt.ylabel('accuracy')\n",
    "plt.xlabel('epoch')\n",
    "plt.legend(['train', 'test'], loc='upper left')\n",
    "plt.show()\n",
    "# summarize history for loss\n",
    "plt.plot(history.history['loss'])\n",
    "plt.plot(history.history['val_loss'])\n",
    "plt.title('model loss')\n",
    "plt.ylabel('loss')\n",
    "plt.xlabel('epoch')\n",
    "plt.legend(['train', 'test'], loc='upper left')\n",
    "plt.show()"
   ]
  },
  {
   "cell_type": "markdown",
   "id": "controversial-switch",
   "metadata": {},
   "source": [
    "Por útlimo, utilizaremos los datos de prueba para comprobar cómo de acertado es nuestro modelo con datos que todavía no ha visto. Para ello utilizaremos las función `evaluate(input_data, expected_output)`, esta función devolverá un array con los valores de la función de coste y de las métricas incluidas en el proceso de compulación del modelo."
   ]
  },
  {
   "cell_type": "code",
   "execution_count": 6,
   "id": "joined-williams",
   "metadata": {},
   "outputs": [
    {
     "name": "stdout",
     "output_type": "stream",
     "text": [
      "Test loss: 0.08724703639745712\n",
      "Test accuracy: 0.9742000102996826\n"
     ]
    }
   ],
   "source": [
    "score = model.evaluate(x_test, y_test, verbose=0)\n",
    "print('Test loss:', score[0])\n",
    "print('Test accuracy:', score[1])"
   ]
  }
 ],
 "metadata": {
  "kernelspec": {
   "display_name": "Python 3",
   "language": "python",
   "name": "python3"
  },
  "language_info": {
   "codemirror_mode": {
    "name": "ipython",
    "version": 3
   },
   "file_extension": ".py",
   "mimetype": "text/x-python",
   "name": "python",
   "nbconvert_exporter": "python",
   "pygments_lexer": "ipython3",
   "version": "3.8.1"
  }
 },
 "nbformat": 4,
 "nbformat_minor": 5
}
