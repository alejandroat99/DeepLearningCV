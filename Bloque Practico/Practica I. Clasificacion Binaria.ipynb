{
 "cells": [
  {
   "cell_type": "markdown",
   "metadata": {},
   "source": [
    "# Practica I: Clasificación Binaria\n",
    "\n",
    "## Introducción\n",
    "<div style=\"text-align: justify; margin-top:1.5em; margin-right:3em\">En este primer cuaderno vamos ver el tipo de problema básico con redes neuronales: <b>Clasificación Binaria</b>. Los problemas de clasificación binaria se caracterizan por aprender a clasificar sólo dos tipos de datos. Simplificando bastate este tipo de problemas, nos da una respuesta que puede ser: <i>si</i> o <i>no</i>. Vamos a ver un ejemplo de este problema para ver como funcionan.</div>\n",
    "\n",
    "## Contexto del problema\n",
    "<div style=\"text-align: justify; margin-top:1.5em; margin-right:3em\">Una asociación de animales está preparandose para la edición de este año de su concurso de fotografía, en este concurso se pide enviar imágenes de perros y gatos que son las dos catagorias del concurso. Con el tiempo el número de participantes ha ido aumentando y la cantidad de imágenes a clasificar se ha vuelto demasiado grande como para hacerlo manualmente. La asociación nos ha pedido que le ofrezcamos una solución que les permita automatizar la clasificación de las imágenes que envían los participantes.</div>\n",
    "\n",
    "<div style=\"text-align: justify; margin-top:1.5em; margin-right:3em\">La solución a la que se ha llegado ha sido desarrollar un modelo capaz de clasificar las imágenes y la asociación a proporcionado una gran cantidad de imágenes de las ediciones anteriores para entrenar el modelo.</div>"
   ]
  },
  {
   "cell_type": "code",
   "execution_count": 1,
   "metadata": {},
   "outputs": [],
   "source": [
    "import numpy as np\n",
    "import matplotlib.pyplot as plt"
   ]
  },
  {
   "cell_type": "code",
   "execution_count": 2,
   "metadata": {},
   "outputs": [],
   "source": [
    "# Path to the images of the dataset\n",
    "train_path = './images/cats_vs_dogs/train'           # path to training data\n",
    "validation_path = './images/cats_vs_dogs/validation' # path to validation data\n",
    "test_path = './images/cats_vs_dogs/test'             # path to test data"
   ]
  },
  {
   "cell_type": "markdown",
   "metadata": {},
   "source": [
    "<div style=\"text-align: justify; margin-top:1.5em; margin-right:3em\">Primero vamos a cargar los datos que usaremos para entrenar la red. Las imágenes se encuentran compromidas en el archivo <code>images.zip</code>, este archivo debe ser descomprimido para realizar el ejercicio. Debido a que la capacidad de memoria del ordenador es limitada para albergar todos estos archivos a la vez, vamos a utilizar la clase que se encuentra en el paquete <code>tensorflow.keras.preprocessing.image.ImageDataGenerator</code> que permite cargar imagenes de un directorio de manera dinámica durante el proceso de entrenamiento.</div>\n",
    "\n",
    "<div style=\"text-align: justify; margin-top:1.5em; margin-right:3em\">Esta clase debe usar en su constructor el parámetro <code>rescale</code> para pasar las imágenes de un rango de <code>[0, 255]</code> a un rango <code>[0, 1]</code> ya que este rango es más adecuado para los proccesos de aprendizaje. Una vez generado el objeto de esta clase, utilizaremos la función <code>flow_from_directory()</code> para especificar la ruta donde se encuentran las imágenes. Debemos especificar los siguientes parámetros:</div>\n",
    "\n",
    "- `path`: ruta a las imágenes.\n",
    "- `target_size`: dimensiones a las que se debe ajustar la imagen.\n",
    "- `batch_size`: tamaño del batch.\n",
    "- `class_mode`: tipo de problema a resolver, en este caso debe ser `class_mode='binary'`.\n",
    "\n",
    "Esta función devolverá un objeto **Generador** de las imágenes, además imprimirá por pantalla las cantidad de datos y de imágenes que ha encontrado."
   ]
  },
  {
   "cell_type": "code",
   "execution_count": 3,
   "metadata": {},
   "outputs": [
    {
     "name": "stdout",
     "output_type": "stream",
     "text": [
      "Loading training data:\n",
      "Found 15994 images belonging to 2 classes.\n",
      "\n",
      "Loading validation data:\n",
      "Found 2000 images belonging to 2 classes.\n",
      "\n",
      "Loading test data:\n",
      "Found 2000 images belonging to 2 classes.\n"
     ]
    }
   ],
   "source": [
    "# Create the data generator for the input data\n",
    "from tensorflow.keras.preprocessing.image import ImageDataGenerator\n",
    "\n",
    "print('Loading training data:')\n",
    "train_generator = ImageDataGenerator(rescale=1./255).flow_from_directory(\n",
    "    train_path,\n",
    "    target_size=(150, 150),\n",
    "    batch_size=40,\n",
    "    class_mode='binary'\n",
    ")\n",
    "\n",
    "print('\\nLoading validation data:')\n",
    "validation_generator = ImageDataGenerator(rescale=1./255).flow_from_directory(\n",
    "    validation_path,\n",
    "    target_size=(150, 150),\n",
    "    batch_size=20,\n",
    "    class_mode='binary'\n",
    ")\n",
    "\n",
    "print('\\nLoading test data:')\n",
    "test_generator = ImageDataGenerator(rescale=1./255).flow_from_directory(\n",
    "    test_path,\n",
    "    target_size=(150, 150),\n",
    "    batch_size=20,\n",
    "    class_mode='binary'\n",
    ")"
   ]
  },
  {
   "cell_type": "markdown",
   "metadata": {},
   "source": [
    "La salida esperada para la anterior celda de código con el dataset proporcionado debe ser:\n",
    "<p style=\"color: blue; font-family: 'Courier New', monospace\">\n",
    "Loading trainning data:<br/>\n",
    "Found 15994 images belonging to 2 classes.<br/>\n",
    "</p>\n",
    "<p style=\"color: blue; font-family: 'Courier New', monospace\">\n",
    "Loading validation data:<br/>\n",
    "Found 2000 images belonging to 2 classes.<br/>\n",
    "</p>\n",
    "<p style=\"color: blue; font-family: 'Courier New', monospace\">\n",
    "Loading test data:<br/>\n",
    "Found 2000 images belonging to 2 classes.<br/>\n",
    "</p>"
   ]
  },
  {
   "cell_type": "code",
   "execution_count": 4,
   "metadata": {},
   "outputs": [],
   "source": [
    "# Import classes for the model\n",
    "from tensorflow.keras.models import Sequential\n",
    "from tensorflow.keras.layers import Dense, Conv2D, MaxPooling2D, Flatten, Dropout\n",
    "from tensorflow.keras.optimizers import Adam"
   ]
  },
  {
   "cell_type": "markdown",
   "metadata": {},
   "source": [
    "<div style=\"text-align: justify; margin-top:1.5em; margin-right:3em\">Ahora que ya hemos cargado los datos necesarios, vamos a generar el modelo que aprenderá a clasificar las imágenes. Aunque antes de empezar vamos a hablar del tipo de neurona fundamental para resolver los problemas de visión por computador. Esta neurona se conoce como <b>Neurona Convolucional</b> y se caracteriza por:</div>\n",
    "\n",
    "1. Tomar como entrada una secuencia bidimensioal de datos, imágenes generalmente. A diferencia de las neuronas vistas hasta ahora que tomaban como entrada una secuencia unidimensional de datos.\n",
    "2. Aplicación de la operación de convolución. Estas neuronass realizan la operación de convolución en lugar de la suma ponderada de su comportamiento clásico.\n",
    "3. <div style=\"text-align: justify; margin-top:1.5em; margin-right:3em\">Se aprende el kernel o máscara en lugar de los pesos. A diferencia de las neuronas normales, estas neuronas tratan de aprender el filtro que deben aplicar a la imagen, en capas inferiores aprenden a detectar elementos básicos de la imagen como líneas, bordes y curvas. A medida que se va subiendo la red, estas neuronas aprenden a detectar elementos más complejos como ojos, manos, formas, ect. Se recomienda utiliar kernels de tamaño <code>(3,3)</code> o <code>(5,5)</code> ya que ofrecen buenos resultados.</div>\n",
    "\n",
    "<div style=\"text-align: justify; margin-top:1.5em; margin-right:3em\">La estructura que siguen las redes neuronales convolucionales es tomas los datos de entrada en la capa, los resultados de la capa son procesados para reducir su tamaño conforme se asciende en la jerarquía de capas. Al reducir el tamaño de las imágenes se pierde calidad pero a la vez se consigue que la red aprende mejor formas complejas al simplificarlas.</div>\n",
    "\n",
    "<div style=\"text-align: justify; margin-top:1.5em; margin-right:3em\">Una vez que se ha terminado con el bloque de capas convolucionales, tenemos que adaptar la salida para que tenga una forma unidimensional para poder procesar los resultados en un bloque de neuronas tradicionales. También recordar que la última capa de la red debe tener tantas neuronas como clases a clasificar tengamos.</div>\n",
    "\n",
    "Debido a que el problema require de una red un tanto compleja para un nivel inical, se recomienda seguir la estructura planteada."
   ]
  },
  {
   "cell_type": "code",
   "execution_count": 5,
   "metadata": {},
   "outputs": [
    {
     "name": "stdout",
     "output_type": "stream",
     "text": [
      "Model: \"sequential\"\n",
      "_________________________________________________________________\n",
      "Layer (type)                 Output Shape              Param #   \n",
      "=================================================================\n",
      "conv2d (Conv2D)              (None, 148, 148, 32)      896       \n",
      "_________________________________________________________________\n",
      "max_pooling2d (MaxPooling2D) (None, 74, 74, 32)        0         \n",
      "_________________________________________________________________\n",
      "conv2d_1 (Conv2D)            (None, 72, 72, 32)        9248      \n",
      "_________________________________________________________________\n",
      "max_pooling2d_1 (MaxPooling2 (None, 36, 36, 32)        0         \n",
      "_________________________________________________________________\n",
      "conv2d_2 (Conv2D)            (None, 34, 34, 64)        18496     \n",
      "_________________________________________________________________\n",
      "max_pooling2d_2 (MaxPooling2 (None, 17, 17, 64)        0         \n",
      "_________________________________________________________________\n",
      "dropout (Dropout)            (None, 17, 17, 64)        0         \n",
      "_________________________________________________________________\n",
      "conv2d_3 (Conv2D)            (None, 15, 15, 64)        36928     \n",
      "_________________________________________________________________\n",
      "max_pooling2d_3 (MaxPooling2 (None, 7, 7, 64)          0         \n",
      "_________________________________________________________________\n",
      "flatten (Flatten)            (None, 3136)              0         \n",
      "_________________________________________________________________\n",
      "dropout_1 (Dropout)          (None, 3136)              0         \n",
      "_________________________________________________________________\n",
      "dense (Dense)                (None, 64)                200768    \n",
      "_________________________________________________________________\n",
      "dense_1 (Dense)              (None, 1)                 65        \n",
      "=================================================================\n",
      "Total params: 266,401\n",
      "Trainable params: 266,401\n",
      "Non-trainable params: 0\n",
      "_________________________________________________________________\n"
     ]
    }
   ],
   "source": [
    "# Build the model\n",
    "model = Sequential()\n",
    "\n",
    "# Stack the layers\n",
    "model.add(Conv2D(32, kernel_size=(3,3), activation='relu', input_shape=(150, 150, 3))) # Input layer\n",
    "model.add(MaxPooling2D(2,2)) # Downsize the results\n",
    "model.add(Conv2D(32, kernel_size=(3,3), activation='relu'))\n",
    "model.add(MaxPooling2D(2,2))\n",
    "model.add(Conv2D(64, kernel_size=(3,3), activation='relu'))\n",
    "model.add(MaxPooling2D(2,2))\n",
    "model.add(Dropout(0.5)) # Ignore some outputs to avoid overfitting\n",
    "model.add(Conv2D(64, kernel_size=(3,3), activation='relu'))\n",
    "model.add(MaxPooling2D(2,2))\n",
    "model.add(Flatten()) # Convert to 1D\n",
    "model.add(Dropout(0.5))\n",
    "model.add(Dense(64, activation='relu'))\n",
    "model.add(Dense(1, activation='sigmoid')) # Output layer\n",
    "\n",
    "# Setup the optimizer\n",
    "opt = Adam(learning_rate=0.001)\n",
    "\n",
    "# Compile the model\n",
    "model.compile(loss='binary_crossentropy', optimizer=opt, metrics=['accuracy'])\n",
    "\n",
    "model.summary()"
   ]
  },
  {
   "cell_type": "markdown",
   "metadata": {},
   "source": [
    "<div style=\"text-align: justify; margin-top:1.5em; margin-right:3em\">El útlimo paso es realizar el proceso de entrenamiento. En este caso el problema tardará bastante tiempo en ejecutarse, por lo que si se desea se puede utilizar el archivo <code>cats_vs_dogs.h5</code> que cuenta con una red ya entrenada. Por otro lado, si se desea entrenar pero cada epoch tarda demasiado (>1m), recomendamos reducir el parámetro <code>steps_per_epoch</code> aunque puede que no se obtengan resultados satisfactorios.</div>"
   ]
  },
  {
   "cell_type": "code",
   "execution_count": 6,
   "metadata": {
    "scrolled": true
   },
   "outputs": [
    {
     "name": "stdout",
     "output_type": "stream",
     "text": [
      "Epoch 1/120\n",
      "100/100 [==============================] - 198s 2s/step - loss: 0.6986 - accuracy: 0.4909 - val_loss: 0.6921 - val_accuracy: 0.5266\n",
      "Epoch 2/120\n",
      "100/100 [==============================] - 156s 2s/step - loss: 0.6810 - accuracy: 0.5485 - val_loss: 0.6814 - val_accuracy: 0.5625\n",
      "Epoch 3/120\n",
      "100/100 [==============================] - 149s 1s/step - loss: 0.6735 - accuracy: 0.5902 - val_loss: 0.6607 - val_accuracy: 0.6195\n",
      "Epoch 4/120\n",
      "100/100 [==============================] - 152s 2s/step - loss: 0.6414 - accuracy: 0.6388 - val_loss: 0.6150 - val_accuracy: 0.6812\n",
      "Epoch 5/120\n",
      "100/100 [==============================] - 141s 1s/step - loss: 0.6099 - accuracy: 0.6600 - val_loss: 0.6213 - val_accuracy: 0.6562\n",
      "Epoch 6/120\n",
      "100/100 [==============================] - 125s 1s/step - loss: 0.5940 - accuracy: 0.6845 - val_loss: 0.6218 - val_accuracy: 0.6531\n",
      "Epoch 7/120\n",
      "100/100 [==============================] - 145s 1s/step - loss: 0.5781 - accuracy: 0.6914 - val_loss: 0.5406 - val_accuracy: 0.7336\n",
      "Epoch 8/120\n",
      "100/100 [==============================] - 139s 1s/step - loss: 0.5729 - accuracy: 0.7036 - val_loss: 0.5306 - val_accuracy: 0.7320\n",
      "Epoch 9/120\n",
      "100/100 [==============================] - 124s 1s/step - loss: 0.5667 - accuracy: 0.7088 - val_loss: 0.5768 - val_accuracy: 0.6992\n",
      "Epoch 10/120\n",
      "100/100 [==============================] - 121s 1s/step - loss: 0.5647 - accuracy: 0.6985 - val_loss: 0.5223 - val_accuracy: 0.7281\n",
      "Epoch 11/120\n",
      "100/100 [==============================] - 124s 1s/step - loss: 0.5363 - accuracy: 0.7309 - val_loss: 0.5001 - val_accuracy: 0.7578\n",
      "Epoch 12/120\n",
      "100/100 [==============================] - 131s 1s/step - loss: 0.5306 - accuracy: 0.7286 - val_loss: 0.4958 - val_accuracy: 0.7461\n",
      "Epoch 13/120\n",
      "100/100 [==============================] - 125s 1s/step - loss: 0.5325 - accuracy: 0.7226 - val_loss: 0.4975 - val_accuracy: 0.7594\n",
      "Epoch 14/120\n",
      "100/100 [==============================] - 124s 1s/step - loss: 0.5225 - accuracy: 0.7395 - val_loss: 0.4768 - val_accuracy: 0.7773\n",
      "Epoch 15/120\n",
      "100/100 [==============================] - 113s 1s/step - loss: 0.4742 - accuracy: 0.7690 - val_loss: 0.4704 - val_accuracy: 0.7789\n",
      "Epoch 16/120\n",
      "100/100 [==============================] - 111s 1s/step - loss: 0.4970 - accuracy: 0.7484 - val_loss: 0.4978 - val_accuracy: 0.7492\n",
      "Epoch 17/120\n",
      "100/100 [==============================] - 113s 1s/step - loss: 0.4909 - accuracy: 0.7549 - val_loss: 0.4562 - val_accuracy: 0.7906\n",
      "Epoch 18/120\n",
      "100/100 [==============================] - 109s 1s/step - loss: 0.4565 - accuracy: 0.7864 - val_loss: 0.4895 - val_accuracy: 0.7602\n",
      "Epoch 19/120\n",
      "100/100 [==============================] - 109s 1s/step - loss: 0.4654 - accuracy: 0.7738 - val_loss: 0.4538 - val_accuracy: 0.7836\n",
      "Epoch 20/120\n",
      "100/100 [==============================] - 112s 1s/step - loss: 0.4591 - accuracy: 0.7765 - val_loss: 0.4905 - val_accuracy: 0.7789\n",
      "Epoch 21/120\n",
      "100/100 [==============================] - 110s 1s/step - loss: 0.4792 - accuracy: 0.7663 - val_loss: 0.4495 - val_accuracy: 0.7953\n",
      "Epoch 22/120\n",
      "100/100 [==============================] - 111s 1s/step - loss: 0.4367 - accuracy: 0.7994 - val_loss: 0.4164 - val_accuracy: 0.8156\n",
      "Epoch 23/120\n",
      "100/100 [==============================] - 109s 1s/step - loss: 0.4436 - accuracy: 0.7860 - val_loss: 0.4190 - val_accuracy: 0.7969\n",
      "Epoch 24/120\n",
      "100/100 [==============================] - 109s 1s/step - loss: 0.4256 - accuracy: 0.8018 - val_loss: 0.4002 - val_accuracy: 0.8070\n",
      "Epoch 25/120\n",
      "100/100 [==============================] - 106s 1s/step - loss: 0.4272 - accuracy: 0.8026 - val_loss: 0.3964 - val_accuracy: 0.8273\n",
      "Epoch 26/120\n",
      "100/100 [==============================] - 106s 1s/step - loss: 0.4285 - accuracy: 0.8040 - val_loss: 0.4137 - val_accuracy: 0.8039\n",
      "Epoch 27/120\n",
      "100/100 [==============================] - 107s 1s/step - loss: 0.4256 - accuracy: 0.8036 - val_loss: 0.3844 - val_accuracy: 0.8188\n",
      "Epoch 28/120\n",
      "100/100 [==============================] - 158s 2s/step - loss: 0.3867 - accuracy: 0.8111 - val_loss: 0.3897 - val_accuracy: 0.8219\n",
      "Epoch 29/120\n",
      "100/100 [==============================] - 135s 1s/step - loss: 0.3812 - accuracy: 0.8277 - val_loss: 0.3815 - val_accuracy: 0.8453\n",
      "Epoch 30/120\n",
      "100/100 [==============================] - 121s 1s/step - loss: 0.3894 - accuracy: 0.8153 - val_loss: 0.3754 - val_accuracy: 0.8297\n",
      "Epoch 31/120\n",
      "100/100 [==============================] - 114s 1s/step - loss: 0.3537 - accuracy: 0.8487 - val_loss: 0.3707 - val_accuracy: 0.8383\n",
      "Epoch 32/120\n",
      "100/100 [==============================] - 121s 1s/step - loss: 0.3598 - accuracy: 0.8381 - val_loss: 0.3416 - val_accuracy: 0.8531\n",
      "Epoch 33/120\n",
      "100/100 [==============================] - 116s 1s/step - loss: 0.3404 - accuracy: 0.8514 - val_loss: 0.2901 - val_accuracy: 0.8797\n",
      "Epoch 34/120\n",
      "100/100 [==============================] - 115s 1s/step - loss: 0.2889 - accuracy: 0.8746 - val_loss: 0.3136 - val_accuracy: 0.8625\n",
      "Epoch 35/120\n",
      "100/100 [==============================] - 108s 1s/step - loss: 0.3262 - accuracy: 0.8562 - val_loss: 0.3081 - val_accuracy: 0.8672\n",
      "Epoch 36/120\n",
      "100/100 [==============================] - 108s 1s/step - loss: 0.3058 - accuracy: 0.8615 - val_loss: 0.2409 - val_accuracy: 0.8961\n",
      "Epoch 37/120\n",
      "100/100 [==============================] - 106s 1s/step - loss: 0.3233 - accuracy: 0.8565 - val_loss: 0.2510 - val_accuracy: 0.8961\n",
      "Epoch 38/120\n",
      "100/100 [==============================] - 108s 1s/step - loss: 0.2630 - accuracy: 0.8906 - val_loss: 0.2455 - val_accuracy: 0.9008\n",
      "Epoch 39/120\n",
      "100/100 [==============================] - 108s 1s/step - loss: 0.2611 - accuracy: 0.8941 - val_loss: 0.3110 - val_accuracy: 0.8727\n",
      "Epoch 40/120\n",
      "100/100 [==============================] - 107s 1s/step - loss: 0.2975 - accuracy: 0.8699 - val_loss: 0.2425 - val_accuracy: 0.8953\n",
      "Epoch 41/120\n",
      "100/100 [==============================] - 106s 1s/step - loss: 0.2512 - accuracy: 0.8934 - val_loss: 0.2392 - val_accuracy: 0.9125\n",
      "Epoch 42/120\n",
      "100/100 [==============================] - 104s 1s/step - loss: 0.2493 - accuracy: 0.8917 - val_loss: 0.2477 - val_accuracy: 0.8938\n",
      "Epoch 43/120\n",
      "100/100 [==============================] - 123s 1s/step - loss: 0.2511 - accuracy: 0.8940 - val_loss: 0.2449 - val_accuracy: 0.9008\n",
      "Epoch 44/120\n",
      "100/100 [==============================] - 122s 1s/step - loss: 0.2798 - accuracy: 0.8773 - val_loss: 0.3399 - val_accuracy: 0.8523\n",
      "Epoch 45/120\n",
      "100/100 [==============================] - 115s 1s/step - loss: 0.2749 - accuracy: 0.8822 - val_loss: 0.2530 - val_accuracy: 0.8945\n",
      "Epoch 46/120\n",
      "100/100 [==============================] - 118s 1s/step - loss: 0.2560 - accuracy: 0.8895 - val_loss: 0.2083 - val_accuracy: 0.9164\n",
      "Epoch 47/120\n",
      "100/100 [==============================] - 116s 1s/step - loss: 0.2612 - accuracy: 0.8970 - val_loss: 0.1958 - val_accuracy: 0.9219\n",
      "Epoch 48/120\n",
      "100/100 [==============================] - 120s 1s/step - loss: 0.2311 - accuracy: 0.9052 - val_loss: 0.2294 - val_accuracy: 0.9070\n",
      "Epoch 49/120\n",
      "100/100 [==============================] - 118s 1s/step - loss: 0.2327 - accuracy: 0.8972 - val_loss: 0.2690 - val_accuracy: 0.8813\n",
      "Epoch 50/120\n",
      "100/100 [==============================] - 117s 1s/step - loss: 0.2060 - accuracy: 0.9212 - val_loss: 0.2120 - val_accuracy: 0.9133\n",
      "Epoch 51/120\n",
      "100/100 [==============================] - 111s 1s/step - loss: 0.2230 - accuracy: 0.9139 - val_loss: 0.2355 - val_accuracy: 0.9148\n",
      "Epoch 52/120\n",
      "100/100 [==============================] - 112s 1s/step - loss: 0.2022 - accuracy: 0.9300 - val_loss: 0.2251 - val_accuracy: 0.9195\n",
      "Epoch 53/120\n",
      "100/100 [==============================] - 117s 1s/step - loss: 0.2127 - accuracy: 0.9140 - val_loss: 0.2278 - val_accuracy: 0.9141\n",
      "Epoch 54/120\n",
      "100/100 [==============================] - 114s 1s/step - loss: 0.1966 - accuracy: 0.9242 - val_loss: 0.2429 - val_accuracy: 0.8969\n",
      "Epoch 55/120\n",
      "100/100 [==============================] - 114s 1s/step - loss: 0.2111 - accuracy: 0.9242 - val_loss: 0.1906 - val_accuracy: 0.9250\n",
      "Epoch 56/120\n",
      "100/100 [==============================] - 151s 2s/step - loss: 0.2123 - accuracy: 0.9174 - val_loss: 0.2010 - val_accuracy: 0.9281\n",
      "Epoch 57/120\n"
     ]
    },
    {
     "name": "stdout",
     "output_type": "stream",
     "text": [
      "100/100 [==============================] - 224s 2s/step - loss: 0.1905 - accuracy: 0.9257 - val_loss: 0.1881 - val_accuracy: 0.9297\n",
      "Epoch 58/120\n",
      "100/100 [==============================] - 239s 2s/step - loss: 0.1958 - accuracy: 0.9211 - val_loss: 0.2243 - val_accuracy: 0.9094\n",
      "Epoch 59/120\n",
      "100/100 [==============================] - 174s 2s/step - loss: 0.1682 - accuracy: 0.9321 - val_loss: 0.2284 - val_accuracy: 0.9102\n",
      "Epoch 60/120\n",
      "100/100 [==============================] - 228s 2s/step - loss: 0.1960 - accuracy: 0.9199 - val_loss: 0.2060 - val_accuracy: 0.9242\n",
      "Epoch 61/120\n",
      "100/100 [==============================] - 229s 2s/step - loss: 0.2023 - accuracy: 0.9191 - val_loss: 0.2058 - val_accuracy: 0.9164\n",
      "Epoch 62/120\n",
      "100/100 [==============================] - 226s 2s/step - loss: 0.1915 - accuracy: 0.9265 - val_loss: 0.1952 - val_accuracy: 0.9133\n",
      "Epoch 63/120\n",
      "100/100 [==============================] - 227s 2s/step - loss: 0.1788 - accuracy: 0.9297 - val_loss: 0.1880 - val_accuracy: 0.9273\n",
      "Epoch 64/120\n",
      "100/100 [==============================] - 225s 2s/step - loss: 0.2272 - accuracy: 0.9110 - val_loss: 0.2115 - val_accuracy: 0.9094\n",
      "Epoch 65/120\n",
      "100/100 [==============================] - 239s 2s/step - loss: 0.2023 - accuracy: 0.9130 - val_loss: 0.2045 - val_accuracy: 0.9172\n",
      "Epoch 66/120\n",
      "100/100 [==============================] - 238s 2s/step - loss: 0.1590 - accuracy: 0.9383 - val_loss: 0.2182 - val_accuracy: 0.9141\n",
      "Epoch 67/120\n",
      "100/100 [==============================] - 236s 2s/step - loss: 0.2142 - accuracy: 0.9116 - val_loss: 0.2656 - val_accuracy: 0.8914\n",
      "Epoch 68/120\n",
      "100/100 [==============================] - 150s 1s/step - loss: 0.2034 - accuracy: 0.9244 - val_loss: 0.1724 - val_accuracy: 0.9359\n",
      "Epoch 69/120\n",
      "100/100 [==============================] - 122s 1s/step - loss: 0.1609 - accuracy: 0.9395 - val_loss: 0.2082 - val_accuracy: 0.9156\n",
      "Epoch 70/120\n",
      "100/100 [==============================] - 124s 1s/step - loss: 0.1695 - accuracy: 0.9399 - val_loss: 0.2515 - val_accuracy: 0.8969\n",
      "Epoch 71/120\n",
      "100/100 [==============================] - 150s 2s/step - loss: 0.1782 - accuracy: 0.9305 - val_loss: 0.3677 - val_accuracy: 0.8508\n",
      "Epoch 72/120\n",
      "100/100 [==============================] - 126s 1s/step - loss: 0.1987 - accuracy: 0.9163 - val_loss: 0.1706 - val_accuracy: 0.9359\n",
      "Epoch 73/120\n",
      "100/100 [==============================] - 116s 1s/step - loss: 0.1732 - accuracy: 0.9310 - val_loss: 0.2153 - val_accuracy: 0.9164\n",
      "Epoch 74/120\n",
      "100/100 [==============================] - 109s 1s/step - loss: 0.1589 - accuracy: 0.9448 - val_loss: 0.1826 - val_accuracy: 0.9281\n",
      "Epoch 75/120\n",
      "100/100 [==============================] - 104s 1s/step - loss: 0.1594 - accuracy: 0.9383 - val_loss: 0.2018 - val_accuracy: 0.9227\n",
      "Epoch 76/120\n",
      "100/100 [==============================] - 103s 1s/step - loss: 0.1557 - accuracy: 0.9366 - val_loss: 0.1927 - val_accuracy: 0.9187\n",
      "Epoch 77/120\n",
      "100/100 [==============================] - 102s 1s/step - loss: 0.1469 - accuracy: 0.9415 - val_loss: 0.1809 - val_accuracy: 0.9289\n",
      "Epoch 78/120\n",
      "100/100 [==============================] - 106s 1s/step - loss: 0.1800 - accuracy: 0.9269 - val_loss: 0.2184 - val_accuracy: 0.9117\n",
      "Epoch 79/120\n",
      "100/100 [==============================] - 110s 1s/step - loss: 0.1793 - accuracy: 0.9254 - val_loss: 0.1708 - val_accuracy: 0.9328\n",
      "Epoch 80/120\n",
      "100/100 [==============================] - 106s 1s/step - loss: 0.1529 - accuracy: 0.9393 - val_loss: 0.1853 - val_accuracy: 0.9258\n",
      "Epoch 81/120\n",
      "100/100 [==============================] - 104s 1s/step - loss: 0.1547 - accuracy: 0.9363 - val_loss: 0.2477 - val_accuracy: 0.9000\n",
      "Epoch 82/120\n",
      "100/100 [==============================] - 105s 1s/step - loss: 0.1447 - accuracy: 0.9463 - val_loss: 0.1827 - val_accuracy: 0.9250\n",
      "Epoch 83/120\n",
      "100/100 [==============================] - 107s 1s/step - loss: 0.1437 - accuracy: 0.9481 - val_loss: 0.1576 - val_accuracy: 0.9328\n",
      "Epoch 84/120\n",
      "100/100 [==============================] - 105s 1s/step - loss: 0.1267 - accuracy: 0.9509 - val_loss: 0.2203 - val_accuracy: 0.9172\n",
      "Epoch 85/120\n",
      "100/100 [==============================] - 109s 1s/step - loss: 0.1460 - accuracy: 0.9420 - val_loss: 0.2012 - val_accuracy: 0.9211\n",
      "Epoch 86/120\n",
      "100/100 [==============================] - 106s 1s/step - loss: 0.1391 - accuracy: 0.9437 - val_loss: 0.1942 - val_accuracy: 0.9227\n",
      "Epoch 87/120\n",
      "100/100 [==============================] - 99s 983ms/step - loss: 0.1444 - accuracy: 0.9450 - val_loss: 0.2695 - val_accuracy: 0.8867\n",
      "Epoch 88/120\n",
      "100/100 [==============================] - 102s 1s/step - loss: 0.1395 - accuracy: 0.9454 - val_loss: 0.1801 - val_accuracy: 0.9289\n",
      "Epoch 89/120\n",
      "100/100 [==============================] - 104s 1s/step - loss: 0.1135 - accuracy: 0.9580 - val_loss: 0.1729 - val_accuracy: 0.9344\n",
      "Epoch 90/120\n",
      "100/100 [==============================] - 104s 1s/step - loss: 0.1221 - accuracy: 0.9582 - val_loss: 0.1831 - val_accuracy: 0.9273\n",
      "Epoch 91/120\n",
      "100/100 [==============================] - 102s 1s/step - loss: 0.1344 - accuracy: 0.9463 - val_loss: 0.1690 - val_accuracy: 0.9320\n",
      "Epoch 92/120\n",
      "100/100 [==============================] - 102s 1s/step - loss: 0.1329 - accuracy: 0.9464 - val_loss: 0.2225 - val_accuracy: 0.9125\n",
      "Epoch 93/120\n",
      "100/100 [==============================] - 101s 1s/step - loss: 0.1328 - accuracy: 0.9483 - val_loss: 0.1677 - val_accuracy: 0.9375\n",
      "Epoch 94/120\n",
      "100/100 [==============================] - 102s 1s/step - loss: 0.1412 - accuracy: 0.9442 - val_loss: 0.1766 - val_accuracy: 0.9273\n",
      "Epoch 95/120\n",
      "100/100 [==============================] - 105s 1s/step - loss: 0.1329 - accuracy: 0.9475 - val_loss: 0.2650 - val_accuracy: 0.8945\n",
      "Epoch 96/120\n",
      "100/100 [==============================] - 106s 1s/step - loss: 0.2040 - accuracy: 0.9223 - val_loss: 0.2643 - val_accuracy: 0.8930\n",
      "Epoch 97/120\n",
      "100/100 [==============================] - 103s 1s/step - loss: 0.1369 - accuracy: 0.9433 - val_loss: 0.1891 - val_accuracy: 0.9305\n",
      "Epoch 98/120\n",
      "100/100 [==============================] - 101s 1s/step - loss: 0.1340 - accuracy: 0.9447 - val_loss: 0.1661 - val_accuracy: 0.9305\n",
      "Epoch 99/120\n",
      "100/100 [==============================] - 101s 1s/step - loss: 0.0985 - accuracy: 0.9594 - val_loss: 0.3256 - val_accuracy: 0.8750\n",
      "Epoch 100/120\n",
      "100/100 [==============================] - 109s 1s/step - loss: 0.1986 - accuracy: 0.9245 - val_loss: 0.1767 - val_accuracy: 0.9219\n",
      "Epoch 101/120\n",
      "100/100 [==============================] - 109s 1s/step - loss: 0.1223 - accuracy: 0.9525 - val_loss: 0.2147 - val_accuracy: 0.9203\n",
      "Epoch 102/120\n",
      "100/100 [==============================] - 105s 1s/step - loss: 0.1283 - accuracy: 0.9497 - val_loss: 0.2068 - val_accuracy: 0.9141\n",
      "Epoch 103/120\n",
      "100/100 [==============================] - 135s 1s/step - loss: 0.1250 - accuracy: 0.9519 - val_loss: 0.1462 - val_accuracy: 0.9477\n",
      "Epoch 104/120\n",
      "100/100 [==============================] - 160s 2s/step - loss: 0.1142 - accuracy: 0.9564 - val_loss: 0.1732 - val_accuracy: 0.9375\n",
      "Epoch 105/120\n",
      "100/100 [==============================] - 157s 2s/step - loss: 0.1149 - accuracy: 0.9634 - val_loss: 0.1841 - val_accuracy: 0.9297\n",
      "Epoch 106/120\n",
      "100/100 [==============================] - 169s 2s/step - loss: 0.1084 - accuracy: 0.9602 - val_loss: 0.1555 - val_accuracy: 0.9383\n",
      "Epoch 107/120\n",
      "100/100 [==============================] - 176s 2s/step - loss: 0.0952 - accuracy: 0.9631 - val_loss: 0.1720 - val_accuracy: 0.9305\n",
      "Epoch 108/120\n",
      "100/100 [==============================] - 176s 2s/step - loss: 0.1193 - accuracy: 0.9555 - val_loss: 0.1527 - val_accuracy: 0.9438\n",
      "Epoch 109/120\n",
      "100/100 [==============================] - 182s 2s/step - loss: 0.1312 - accuracy: 0.9467 - val_loss: 0.2102 - val_accuracy: 0.9250\n",
      "Epoch 110/120\n",
      "100/100 [==============================] - 155s 2s/step - loss: 0.1162 - accuracy: 0.9573 - val_loss: 0.1525 - val_accuracy: 0.9406\n",
      "Epoch 111/120\n",
      "100/100 [==============================] - 148s 1s/step - loss: 0.1091 - accuracy: 0.9547 - val_loss: 0.1832 - val_accuracy: 0.9375\n",
      "Epoch 112/120\n",
      "100/100 [==============================] - 160s 2s/step - loss: 0.1425 - accuracy: 0.9382 - val_loss: 0.1551 - val_accuracy: 0.9383\n",
      "Epoch 113/120\n"
     ]
    },
    {
     "name": "stdout",
     "output_type": "stream",
     "text": [
      "100/100 [==============================] - 179s 2s/step - loss: 0.0781 - accuracy: 0.9711 - val_loss: 0.1963 - val_accuracy: 0.9266\n",
      "Epoch 114/120\n",
      "100/100 [==============================] - 198s 2s/step - loss: 0.1132 - accuracy: 0.9559 - val_loss: 0.2314 - val_accuracy: 0.9148\n",
      "Epoch 115/120\n",
      "100/100 [==============================] - 155s 2s/step - loss: 0.1357 - accuracy: 0.9477 - val_loss: 0.3057 - val_accuracy: 0.8680\n",
      "Epoch 116/120\n",
      "100/100 [==============================] - 149s 1s/step - loss: 0.1163 - accuracy: 0.9535 - val_loss: 0.1716 - val_accuracy: 0.9352\n",
      "Epoch 117/120\n",
      "100/100 [==============================] - 124s 1s/step - loss: 0.1126 - accuracy: 0.9568 - val_loss: 0.1734 - val_accuracy: 0.9375\n",
      "Epoch 118/120\n",
      "100/100 [==============================] - 123s 1s/step - loss: 0.1105 - accuracy: 0.9610 - val_loss: 0.1567 - val_accuracy: 0.9430\n",
      "Epoch 119/120\n",
      "100/100 [==============================] - 122s 1s/step - loss: 0.1165 - accuracy: 0.9520 - val_loss: 0.1591 - val_accuracy: 0.9461\n",
      "Epoch 120/120\n",
      "100/100 [==============================] - 123s 1s/step - loss: 0.0807 - accuracy: 0.9750 - val_loss: 0.1884 - val_accuracy: 0.9344\n"
     ]
    }
   ],
   "source": [
    "history = model.fit(train_generator, steps_per_epoch=100, epochs=120,\n",
    "                   validation_data=validation_generator, validation_steps=64)"
   ]
  },
  {
   "cell_type": "markdown",
   "metadata": {},
   "source": [
    "La siguiente celda de código muestra los resultados que se han obtenido durante el proceso de entrenamiento, mostrando la evolución de la precisión de la red y los valores de la Función de Coste obtenidos por los datos de entrenamiento y los datos de validación."
   ]
  },
  {
   "cell_type": "code",
   "execution_count": 7,
   "metadata": {},
   "outputs": [
    {
     "data": {
      "image/png": "[encoded data removed]",
      "text/plain": [
       "<Figure size 432x288 with 1 Axes>"
      ]
     },
     "metadata": {
      "needs_background": "light"
     },
     "output_type": "display_data"
    },
    {
     "data": {
      "image/png": "[encoded data removed]",
      "text/plain": [
       "<Figure size 432x288 with 1 Axes>"
      ]
     },
     "metadata": {
      "needs_background": "light"
     },
     "output_type": "display_data"
    }
   ],
   "source": [
    "# Plot the training data\n",
    "plt.plot(history.history['accuracy'])\n",
    "plt.plot(history.history['val_accuracy'])\n",
    "plt.title('model accuracy')\n",
    "plt.ylabel('accuracy')\n",
    "plt.xlabel('epoch')\n",
    "plt.legend(['train', 'test'], loc='upper left')\n",
    "plt.show()\n",
    "\n",
    "plt.plot(history.history['loss'])\n",
    "plt.plot(history.history['val_loss'])\n",
    "plt.title('model loss')\n",
    "plt.ylabel('loss')\n",
    "plt.xlabel('epoch')\n",
    "plt.legend(['train', 'test'], loc='upper left')\n",
    "plt.show()"
   ]
  },
  {
   "cell_type": "markdown",
   "metadata": {},
   "source": [
    "Ahora vamos a utilizar el último conjunto de datos que nos falta, los datos de prueba. Con este conjunto de datos comprobaremos como se comportas el modelo con datos nuevos que no ha visto nunca."
   ]
  },
  {
   "cell_type": "code",
   "execution_count": null,
   "metadata": {},
   "outputs": [],
   "source": [
    "# Test the model with new data\n",
    "score = model.evaluate(test_generator, verbose=0)\n",
    "print('Test loss:', score[0])\n",
    "print('Test accuracy:', score[1])"
   ]
  },
  {
   "cell_type": "code",
   "execution_count": 13,
   "metadata": {},
   "outputs": [],
   "source": [
    "# Save the model\n",
    "model.save('cats_vs_dogs.h5')"
   ]
  }
 ],
 "metadata": {
  "kernelspec": {
   "display_name": "Python 3",
   "language": "python",
   "name": "python3"
  },
  "language_info": {
   "codemirror_mode": {
    "name": "ipython",
    "version": 3
   },
   "file_extension": ".py",
   "mimetype": "text/x-python",
   "name": "python",
   "nbconvert_exporter": "python",
   "pygments_lexer": "ipython3",
   "version": "3.6.9"
  }
 },
 "nbformat": 4,
 "nbformat_minor": 2
}
